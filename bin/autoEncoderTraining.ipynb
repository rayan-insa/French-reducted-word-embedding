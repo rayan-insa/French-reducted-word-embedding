{
 "cells": [
  {
   "cell_type": "markdown",
   "metadata": {},
   "source": [
    "# AutoEncoder Hyperparameter Tuning\n",
    "\n",
    "This notebook documents the steps for experimenting with and selecting hyperparameters for training the AutoEncoder. We will load the data, define hyperparameters, train the model, evaluate performance, and visualize results."
   ]
  },
  {
   "cell_type": "markdown",
   "metadata": {},
   "source": [
    "## 1. Load Required Libraries\n",
    "\n",
    "We will start by loading the necessary libraries."
   ]
  },
  {
   "cell_type": "code",
   "execution_count": 1,
   "metadata": {},
   "outputs": [],
   "source": [
    "import os\n",
    "import numpy as np\n",
    "import pandas as pd\n",
    "import torch\n",
    "from torch.utils.data import DataLoader, TensorDataset\n",
    "import matplotlib.pyplot as plt\n",
    "from autoencoder import AutoEncoder\n",
    "from dataSamplization import DataSamplization\n",
    "from autoEncoderTrainingLoop import autoEncoderTraining\n",
    "from dataBatching import dataBatching"
   ]
  },
  {
   "cell_type": "markdown",
   "metadata": {},
   "source": [
    "## 2. Load Data\n",
    "\n",
    "Next, we will load the sample data that will be used for training and testing the AutoEncoder."
   ]
  },
  {
   "cell_type": "code",
   "execution_count": 2,
   "metadata": {},
   "outputs": [
    {
     "name": "stdout",
     "output_type": "stream",
     "text": [
      "Loading saved FastText model...\n"
     ]
    }
   ],
   "source": [
    "# Load the dataset\n",
    "dataSamplization = DataSamplization(sampleNum=1000, modelBinPath='modelsSavedLocally/cc.fr.300.bin', csvSavePath='data/')"
   ]
  },
  {
   "cell_type": "code",
   "execution_count": null,
   "metadata": {},
   "outputs": [],
   "source": [
    "# Take data from random words of the vocabulary if prefered\n",
    "data = dataSamplization.randomWordsDataSample()\n",
    "print([data[10:]])"
   ]
  },
  {
   "cell_type": "code",
   "execution_count": 3,
   "metadata": {},
   "outputs": [
    {
     "name": "stdout",
     "output_type": "stream",
     "text": [
      "Vocabulary sample saved into vocabulary_sample.csv\n",
      "[['Elle', '15', 'également', 'Re', 'contre', 'Vous', 'c', 'moins', 'tu', 'suis', '7', 'ville', 'avait', 'vos', 'vers', 'premier', 'vie', 'Et', '2016', '2014', 'jour', '00', '2013', 'leurs', 'Dans', 'soit', '2012', 'toutes', 'nom', '2015', '14', 'De', 'On', '8', 'prix', '18', \"C'\", 'Mais', 'partie', '•', 'nos', 'voir', 'article', '16', 'Plus', '13', 'of', 'chez', 'inscription', 'première', 'quelques', 'toujours', '17', 'Nous', 'plusieurs', 'mai', 'place', 'français', '2011', 'cas', 'puis', 'Cette', 'année', 'ma', 'toute', '2010', 'the', '30', 'suite', 'pays', 'The', 'années', 'lors', 'fin', 'bon', '19', 'À', '21', 'dit', 'trois', 'grand', 'quand', 'partir', 'car', 'sera', '22', 'cet', 'jours', 'C', '2009', 'petit', '=', \"J'\", 'Si', 'maison', 'fut', 'ligne', 'faut', '9', 'nouveau', 'moi', 'lieu', 'mois', '23', 'cours', 'personnes', 'va', 'déjà', 'cela', '2008', 'beaucoup', 'juin', 'groupe', 'mars', 'travail', 'nouvelle', 'compte', '24', 'page', 'messages', '25', 'and', 'janvier', 'hui', 'film', 'commune', 'j', 'grande', 'ici', 'Au', 'avril', \"m'\", 'histoire', '2007', 'détail', 'famille', 'savoir', 'doit', 'avis', 'chaque', 'trop', 'enfants', 'eau', 'm', 'part', \"jusqu'\", 'septembre', 'mes', 'homme', 'rien', 'avons', 'octobre', 'décembre', 'forum', 'jeu', 'produits', 'trouve', 'juillet', 'produit', 'équipe', 'CEST', 'politique', 'là', 'novembre', 'permet', 'in', 'titre', 'pendant', 'notamment', 'recherche', 'nombre', '·', 'dire', 'http', 'service', 'pouvez', 'février', 'point', 'dernier', '05', 'moment', 'selon', 'mort', 'droit', '2006', 'DE', 'afin', 'jamais', 'effet', 'mise', 'Des', '—', '26', 'région', 'projet', '\\\\', 'saison', 'août', 'niveau', '28', 'reste', 'bonne', 'ensemble', '27', 'peuvent', 'exemple', 'Voir', '01', 'série', 'souvent', 'centre', 'Après', 'écrit', 'pouvoir', '--', 'mettre', 'km', 'général', 'Page', 'forme', 'début', '09', 'ceux', 'personne', 'eu', 'française', 'vraiment', 'services', 'demande', '29', 'question', 'Par', 'près', 'Merci', 'celui', 'qualité', 'vue', 'tant', 'petite', 'système', '©', 'Ils', 'ailleurs', 'Europe', 'avez', 'mieux', 'société', '^', 'informations', 'données', 'prendre', 'elles', 'guerre', 'surtout', 'to', 'Jean', 'né', 'CET', '08', 'certains', '06', 'village', 'membres', 'rapport', 'an', 'face', 'étaient', 'mot', 'femme', 'possible', '50', 'seul', '@', 'Prix', '04', 'rue', '07', 'te', 'celle', 'mal', 'articles', 'aide', 'nombreux', 'base', 'ayant', '<', '03', '2005', 'entreprise', 'Catégorie', '..', 'ni', 'liste', '02', 'livre', 'passe', 'https', 'mis', 'seulement', 'côté', 'public', 'utilisation', 'ton', 'développement', '31', 'vu', '100', 'D', 'chose', 'dès', 'quatre', 'situé', 'Ces', 'devant', 'photos', 'hommes', 'trouver', 'Son', 'image', '\\xad', 'fr', 'plan', 'étant', 'type', 'tour', '$', 'grâce', 'cadre', 'juste', 'musique', 'président', 'version', 'aime', 'points', 'simple', 'Avec', 'formation', 'jeune', 'assez', 'quoi', 'offre', 'origine', 'sens', 'serait', 'gratuit', 'Pierre', 'heures', 'Nombre', 'corps', 'salle', 'tête', 'sujet', 'adresse', 'carte', 'minutes', 'date', 'font', 'fils', 'création', 'donne', 'e', 'choix', 'album', 'dernière', 'agit', 'loi', 'passé', 'propre', 'coup', 'propose', 'environ', 'chambre', 'accès', 'devient', '....', \"D'\", 'semaine', 'sécurité', 'parce', 'vidéo', 'ensuite', 'porte', 'h', 'lien', 'haut', 'comment', 'femmes', 'façon', 'nationale', 'état', 'présente', 'long', 'nouvelles', 'tard', 'besoin', 'raison', 'club', 'gouvernement', 'retour', 'genre', 'problème', 'x', 'ancien', 'époque', 'séjour', 'Sur', 'Forum', 'passer', 'information', '40', 'auteur', 'belle', '�', 'autour', 'eux', 'rôle', 'bois', '2004', 'meilleur', 'jeux', 'marché', 'deuxième', 'population', 'État', 'manière', 'santé', 'photo', 'J', 'particulier', 'semble', 'pense', 'merci', 'proche', 'N', 'air', 'Tous', 'aurait', 'fonction', 'Tout', 'différents', 'Mar', 'entreprises', 'statistiques', 'plutôt', 'nuit', 'accueil', 'située', 'ordre', 'aller', '--Les', 'êtes', 'école', 'père', 'droits', 'as', 'petits', 'utiliser', 'édition', \"aujourd'\", 'occasion', 'maintenant', 'États-Unis', 'période', 'Grand', 'Saint', 'donner', 'fille', 'Lire', 'jeunes', 'millions', 'activités', 'sommes', 'aucun', 'enfant', 'seule', 'production', '000', 'autant', 'M.', 'II', 'anglais', 'hôtel', 'œuvre', 'habitants', 'espace', '“', 'art', 'nouveaux', 'Ajouter', 'réseau', 'gestion', 'modèle', 'but', 'prend', '2000', 'parfois', 'I', 'département', 'national', 'marque', 'New', 'veut', 'activité', 'quelque', 'église', 'avais', 'propos', '”', 'gauche', 'cause', 'texte', 'idée', 'pris', 'nombreuses', 'chef', 'existe', 'mots', 'main', 'scène', 'grands', 'route', 'gens', 'style', 'sites', 'durant', 'programme', 'pu', 'études', 'mesure', 'calme', 'Comment', 'conditions', 'ministre', 'seront', 'terme', 'laquelle', 'vient', 'mode', 'or', 'Comme', 'jardin', 'www.insee.fr', 'situation', 'travaux', 'vacances', 'journée', 'vrai', 'membre', 'plein', 'code', 'sein', 'web', 'rencontre', 'lire', 'mer', 'Du', 'numéro', 'pages', 'action', 'euros', 'Mai', 'loin', 'lorsque', 'sais', 'agréable', 'domaine', '2003', 'pourrait', 'nature', 'travers', 'Conseil', 'disponible', 'expérience', 'fond', 'François', 'roi', 'siècle', 'oui', 'sud', 'etc.', 'choses', 'heure', 'LA', 'Accueil', 'milieu', 'cuisine', 'pratique', 'terre', 'grandes', 'blog', 'américain', '~', 'questions', 'vente', 'construction', 'pourquoi', 'peux', 'différentes', 'toi', 'répondre', 'jusqu', 'Mon', 'emploi', 'abord', 'sortie', 'intérieur', 'droite', 'bas', 'cinq', 'Louis', 'aucune', 'plaisir', 'premiers', 'message', 'pièces', 'suivant', 'donné', 'enfin', 'proximité', 'logement', 'Alors', 'prise', 'voiture', 'objet', 'Nord', 'accord', 'section', 'âge', 'gros', 'nord', 'découvrir', 'technique', 'présent', 'République', 'soir', 'Depuis', 'créer', 'S', 'concernant', 'jouer', 'Paul', 'important', '2002', '1er', 'succès', 'appartement', 'Jeu', 'chambres', 'met', 'campagne', 'discuter', 'peut-être', 'territoire', 'Bonjour', 'certaines', 'argent', 'langue', 'rapide', 'parmi', 'geo', 'Internet', 'John', 'vais', 'Charles', 'résultats', 'Dieu', 'direction', 'moyen', '²', 'Français', 'Canada', 'couleur', 'Jeux', 'rendre', 'poste', 'fort', 'Sa', 'auprès', 'départ', 'armée', 'Michel', 'Centre', 'entrée', 'valeur', '2001', 'avaient', 'charge', 'zone', 'min', 'cœur', 'mère', 'match', 'taille', 'Allemagne', 'amour', 'noir', \"t'\", 'Sud', 'clients', 'aura', 'naissance', 'annonce', 'quartier', 'Québec', 'économique', 'frais', 'Afrique', 'mm', 'voyage', 'Pas', 'Selon', 'réponse', 'pied', 'Maison', 'international', 'culture', 'troisième', 'Mer', 'beau', 'connu', 'affaires', 'blanc', 'voix', 'doivent', 'directement', 'plupart', 'rouge', 'compris', 'amis', 'conseil', 'classe', 'Université', 'sujets', 't', 'Jacques', 'presse', 'protection', 'parti', 'arrivée', '35', 'rapidement', 'obtenir', 'application', 'parler', 'p.', 'association', 'doute', 'Sujets', 'mondiale', 'château', 'communauté', 'appel', 'images', 'panier', 'lequel', 'projets', 'étude', 'football', '60', 'générale', 'vite', 'libre', 'commentaire', 'arrive', 'Cet', 'ta', 'matière', 'aider', 'contrôle', 'risque', 'cm', 'commande', 'trouvé', '45', 'quel', 'unique', 'politiques', 'voit', 'Quand', 'intérêt', 'source', 'communes', 'contenu', 'internet', '1999', 'organisation', 'Date', 'utilisé', 'Robert', 'secteur', 'for', 'présence', 'B', 'mouvement', 'référence', 'is', 'villes', 'double', 'catégorie', 'techniques', 'force', 'lettres', 'ancienne', 'simplement', 'yeux', 'éléments', 'île', 'carrière', 'Coupe', 'vont', 'joueur', 'livres', 'passage', 'ET', 'historique', 'commence', 'petites', 'Italie', 'Cela', 'presque', 'Sam', 'sociale', 'parle', '32', 'moyenne', 'épisode', 'réalisé', 'particulièrement', 'problèmes', 'environnement', 'terrain', 'taux', 'films', 'tel', 'roman', 'David', 'chacun', '80', 'Bien', 'téléphone', 'pièce', 'Messages', 'actuellement', 'Tu', 'divers', 'super', 'dernières', 'Recherche', 'Histoire', 'similaires', 'second', 'couleurs', 'publié', 'parc', 'esprit', 'Votre', '33', 'derniers', 'énergie', 'publique', 'créé', 'cinéma', 'Union', 'lit', 'moteur', 'seconde', 'York', 'aujourd', 'disponibles', 'Philippe', 'sûr', 'US', 'Posté', 'TV', 'es', 'Non', 'facile', 'social', 'large', 'Google', 'siège', 'Lun', 'longtemps', 'communication', 'nécessaire', 'bord', 'Site', 'Ainsi', 'permis', 'liens', 'matin', 'directeur', 'mètres', 'Belgique', 'durée', 'vivre', 'Oui', 'Dim', 'table', 'Que', 'principal', 'solution', 'joue', 'devrait', 'idées', 'suivre', 'dimanche', 'personnel', 'ouverture', 'total', 'sait', 'envie', 'meilleure', 'six', 'fais', 'fil', 'collection', 'Liste', 'Marie', 'premières', 'semaines', 'groupes', 'désormais', 'parents', 'malgré', 'hôtels', '1998', 'Espagne', 'Guerre', 'Tour', '1990', 'ami', 'manque', 'lettre', 'position', 'hors', 'finale', 'via', 'cependant', 'nommé', 'conseils', 'haute', 'laisser', 'Notre', 'lieux', 'professionnels', 'difficile', 'militaire', 'venir', 'celles', 'bout', 'visite', 'Ven', 'évolution', 'coeur', 'internationale', 'veux', 'comprendre', 'université', 'voie', 'Rechercher', 'permettant', 'contrat', 'LE', 'Société', 'cher', 'Club', 'économie', 'soleil', 'partager', 'professionnel', 'chemin', 'devenir', 'permettre', 'Chine', 'bar', 'commentaires', 'établissement', 'traitement', 'réalité', 'utilise', 'retrouve', 'sélection', 'train', 'élèves', 'usage', 'port', 'tels', 'Bon', 'Etat']]\n"
     ]
    }
   ],
   "source": [
    "# Take data from most-used words if prefered\n",
    "data = dataSamplization.mostUsedDataSample()\n",
    "print([data[10:]])"
   ]
  },
  {
   "cell_type": "markdown",
   "metadata": {},
   "source": [
    "## 3. Prepare Data for Training\n",
    "\n",
    "We will preprocess the data and create DataLoader objects for training and testing."
   ]
  },
  {
   "cell_type": "code",
   "execution_count": 10,
   "metadata": {},
   "outputs": [
    {
     "name": "stdout",
     "output_type": "stream",
     "text": [
      "Train dataset shape : torch.Size([800, 300])\n",
      "Test dataset shape : torch.Size([200, 300])\n"
     ]
    }
   ],
   "source": [
    "from sklearn.model_selection import train_test_split\n",
    "from sklearn.preprocessing import StandardScaler\n",
    "\n",
    "\n",
    "# Normalization and fitting to pytorch of the embedding matrix, then splitting and batching\n",
    "embedding_matrix = np.array([dataSamplization.fastTextBaseModel.get_word_vector(word) for word in data])\n",
    "scaler = StandardScaler()\n",
    "embedding_matrix_normalized = scaler.fit_transform(embedding_matrix)\n",
    "train_data, test_data = train_test_split(embedding_matrix_normalized, test_size=0.2, random_state=42)\n",
    "train_tensor = torch.tensor(train_data, dtype=torch.float32)\n",
    "test_tensor = torch.tensor(test_data, dtype=torch.float32)\n",
    "\n",
    "print(f\"Train dataset shape : {train_tensor.shape}\")\n",
    "print(f\"Test dataset shape : {test_tensor.shape}\")"
   ]
  },
  {
   "cell_type": "markdown",
   "metadata": {},
   "source": [
    "## 5. Train the AutoEncoder\n",
    "\n",
    "Now we will train the AutoEncoder using the defined hyperparameters. The goal is to find the best configuration possible for our AutoEncoder. We will do the following : Hyperparameters definition, Training of all combinations, Evaluate each bottleneck output against the base model, Visualize evaluations."
   ]
  },
  {
   "cell_type": "markdown",
   "metadata": {},
   "source": [
    "### 1. HyperParameters definition\n",
    "\n",
    "Quick loop to define all the possible configurations"
   ]
  },
  {
   "cell_type": "code",
   "execution_count": 22,
   "metadata": {},
   "outputs": [
    {
     "name": "stdout",
     "output_type": "stream",
     "text": [
      "[{'hidden_dim1': 256, 'hidden_dim2': 128, 'learning_rate': 0.01, 'batch_size': 32}, {'hidden_dim1': 256, 'hidden_dim2': 128, 'learning_rate': 0.01, 'batch_size': 64}, {'hidden_dim1': 256, 'hidden_dim2': 128, 'learning_rate': 0.001, 'batch_size': 32}, {'hidden_dim1': 256, 'hidden_dim2': 128, 'learning_rate': 0.001, 'batch_size': 64}, {'hidden_dim1': 256, 'hidden_dim2': 128, 'learning_rate': 0.0001, 'batch_size': 32}, {'hidden_dim1': 256, 'hidden_dim2': 128, 'learning_rate': 0.0001, 'batch_size': 64}, {'hidden_dim1': 256, 'hidden_dim2': 64, 'learning_rate': 0.01, 'batch_size': 32}, {'hidden_dim1': 256, 'hidden_dim2': 64, 'learning_rate': 0.01, 'batch_size': 64}, {'hidden_dim1': 256, 'hidden_dim2': 64, 'learning_rate': 0.001, 'batch_size': 32}, {'hidden_dim1': 256, 'hidden_dim2': 64, 'learning_rate': 0.001, 'batch_size': 64}, {'hidden_dim1': 256, 'hidden_dim2': 64, 'learning_rate': 0.0001, 'batch_size': 32}, {'hidden_dim1': 256, 'hidden_dim2': 64, 'learning_rate': 0.0001, 'batch_size': 64}, {'hidden_dim1': 128, 'hidden_dim2': 64, 'learning_rate': 0.01, 'batch_size': 32}, {'hidden_dim1': 128, 'hidden_dim2': 64, 'learning_rate': 0.01, 'batch_size': 64}, {'hidden_dim1': 128, 'hidden_dim2': 64, 'learning_rate': 0.001, 'batch_size': 32}, {'hidden_dim1': 128, 'hidden_dim2': 64, 'learning_rate': 0.001, 'batch_size': 64}, {'hidden_dim1': 128, 'hidden_dim2': 64, 'learning_rate': 0.0001, 'batch_size': 32}, {'hidden_dim1': 128, 'hidden_dim2': 64, 'learning_rate': 0.0001, 'batch_size': 64}]\n"
     ]
    }
   ],
   "source": [
    "input_dim = 300\n",
    "bottleneck_dim = 30\n",
    "num_epochs = 100\n",
    "patience = 10\n",
    "min_delta = 0.001\n",
    "\n",
    "# Hyperparameters\n",
    "hp_dic = {'hidden_dim1':[256, 128], 'hidden_dim2':[128, 64], 'learning_rate':[0.01, 0.001, 0.0001], 'batch_size':[32, 64]}\n",
    "\n",
    "hyperparameter_grid = []\n",
    "for hidden_dim1 in hp_dic['hidden_dim1']:\n",
    "    for hidden_dim2 in hp_dic['hidden_dim2']:\n",
    "        if hidden_dim1 <= hidden_dim2:\n",
    "            continue\n",
    "        for learning_rate in hp_dic['learning_rate']:\n",
    "            for batch_size in hp_dic['batch_size']:\n",
    "                hyperparameter_grid.append({'hidden_dim1':hidden_dim1, 'hidden_dim2':hidden_dim2, 'learning_rate':learning_rate, 'batch_size':batch_size})\n",
    "\n",
    "print(hyperparameter_grid)\n"
   ]
  },
  {
   "cell_type": "markdown",
   "metadata": {},
   "source": [
    "### 2. Training and cosine-similarity evaluation of each configuration"
   ]
  },
  {
   "cell_type": "code",
   "execution_count": 27,
   "metadata": {},
   "outputs": [
    {
     "name": "stdout",
     "output_type": "stream",
     "text": [
      "\n",
      "Testing configuration 1: {'hidden_dim1': 256, 'hidden_dim2': 128, 'learning_rate': 0.01, 'batch_size': 32}\n",
      "\n",
      "Training the AutoEncoder...\n",
      "Early stopping at epoch 22\n",
      "AutoEncoder training completed.\n",
      "\n",
      "Testing configuration 2: {'hidden_dim1': 256, 'hidden_dim2': 128, 'learning_rate': 0.01, 'batch_size': 64}\n",
      "\n",
      "Training the AutoEncoder...\n",
      "Epoch [25/100], Train Loss: 0.7305, Test Loss: 0.6945\n",
      "Early stopping at epoch 34\n",
      "AutoEncoder training completed.\n",
      "\n",
      "Testing configuration 3: {'hidden_dim1': 256, 'hidden_dim2': 128, 'learning_rate': 0.001, 'batch_size': 32}\n",
      "\n",
      "Training the AutoEncoder...\n",
      "Epoch [25/100], Train Loss: 0.3255, Test Loss: 0.6266\n",
      "Epoch [50/100], Train Loss: 0.2181, Test Loss: 0.6164\n",
      "Early stopping at epoch 68\n",
      "AutoEncoder training completed.\n",
      "\n",
      "Testing configuration 4: {'hidden_dim1': 256, 'hidden_dim2': 128, 'learning_rate': 0.001, 'batch_size': 64}\n",
      "\n",
      "Training the AutoEncoder...\n",
      "Epoch [25/100], Train Loss: 0.3527, Test Loss: 0.5860\n",
      "Epoch [50/100], Train Loss: 0.2233, Test Loss: 0.5749\n",
      "Early stopping at epoch 62\n",
      "AutoEncoder training completed.\n",
      "\n",
      "Testing configuration 5: {'hidden_dim1': 256, 'hidden_dim2': 128, 'learning_rate': 0.0001, 'batch_size': 32}\n",
      "\n",
      "Training the AutoEncoder...\n",
      "Epoch [25/100], Train Loss: 0.6907, Test Loss: 0.7175\n",
      "Epoch [50/100], Train Loss: 0.5286, Test Loss: 0.6572\n",
      "Epoch [75/100], Train Loss: 0.4348, Test Loss: 0.6350\n",
      "Epoch [100/100], Train Loss: 0.3757, Test Loss: 0.6222\n",
      "AutoEncoder training completed.\n",
      "\n",
      "Testing configuration 6: {'hidden_dim1': 256, 'hidden_dim2': 128, 'learning_rate': 0.0001, 'batch_size': 64}\n",
      "\n",
      "Training the AutoEncoder...\n",
      "Epoch [25/100], Train Loss: 0.7714, Test Loss: 0.7339\n",
      "Epoch [50/100], Train Loss: 0.6042, Test Loss: 0.6477\n",
      "Epoch [75/100], Train Loss: 0.5099, Test Loss: 0.6185\n",
      "Epoch [100/100], Train Loss: 0.4368, Test Loss: 0.6023\n",
      "AutoEncoder training completed.\n",
      "\n",
      "Testing configuration 7: {'hidden_dim1': 256, 'hidden_dim2': 64, 'learning_rate': 0.01, 'batch_size': 32}\n",
      "\n",
      "Training the AutoEncoder...\n",
      "Early stopping at epoch 15\n",
      "AutoEncoder training completed.\n",
      "\n",
      "Testing configuration 8: {'hidden_dim1': 256, 'hidden_dim2': 64, 'learning_rate': 0.01, 'batch_size': 64}\n",
      "\n",
      "Training the AutoEncoder...\n",
      "Early stopping at epoch 20\n",
      "AutoEncoder training completed.\n",
      "\n",
      "Testing configuration 9: {'hidden_dim1': 256, 'hidden_dim2': 64, 'learning_rate': 0.001, 'batch_size': 32}\n",
      "\n",
      "Training the AutoEncoder...\n",
      "Epoch [25/100], Train Loss: 0.3439, Test Loss: 0.6395\n",
      "Early stopping at epoch 30\n",
      "AutoEncoder training completed.\n",
      "\n",
      "Testing configuration 10: {'hidden_dim1': 256, 'hidden_dim2': 64, 'learning_rate': 0.001, 'batch_size': 64}\n",
      "\n",
      "Training the AutoEncoder...\n",
      "Epoch [25/100], Train Loss: 0.3933, Test Loss: 0.6004\n",
      "Epoch [50/100], Train Loss: 0.2575, Test Loss: 0.5987\n",
      "Early stopping at epoch 63\n",
      "AutoEncoder training completed.\n",
      "\n",
      "Testing configuration 11: {'hidden_dim1': 256, 'hidden_dim2': 64, 'learning_rate': 0.0001, 'batch_size': 32}\n",
      "\n",
      "Training the AutoEncoder...\n",
      "Epoch [25/100], Train Loss: 0.7211, Test Loss: 0.7372\n",
      "Epoch [50/100], Train Loss: 0.5827, Test Loss: 0.6759\n",
      "Epoch [75/100], Train Loss: 0.4909, Test Loss: 0.6543\n",
      "Epoch [100/100], Train Loss: 0.4286, Test Loss: 0.6420\n",
      "AutoEncoder training completed.\n",
      "\n",
      "Testing configuration 12: {'hidden_dim1': 256, 'hidden_dim2': 64, 'learning_rate': 0.0001, 'batch_size': 64}\n",
      "\n",
      "Training the AutoEncoder...\n",
      "Epoch [25/100], Train Loss: 0.7881, Test Loss: 0.7332\n",
      "Epoch [50/100], Train Loss: 0.6574, Test Loss: 0.6594\n",
      "Epoch [75/100], Train Loss: 0.5638, Test Loss: 0.6362\n",
      "Epoch [100/100], Train Loss: 0.4882, Test Loss: 0.6196\n",
      "AutoEncoder training completed.\n",
      "\n",
      "Testing configuration 13: {'hidden_dim1': 128, 'hidden_dim2': 64, 'learning_rate': 0.01, 'batch_size': 32}\n",
      "\n",
      "Training the AutoEncoder...\n",
      "Early stopping at epoch 18\n",
      "AutoEncoder training completed.\n",
      "\n",
      "Testing configuration 14: {'hidden_dim1': 128, 'hidden_dim2': 64, 'learning_rate': 0.01, 'batch_size': 64}\n",
      "\n",
      "Training the AutoEncoder...\n",
      "Early stopping at epoch 21\n",
      "AutoEncoder training completed.\n",
      "\n",
      "Testing configuration 15: {'hidden_dim1': 128, 'hidden_dim2': 64, 'learning_rate': 0.001, 'batch_size': 32}\n",
      "\n",
      "Training the AutoEncoder...\n",
      "Epoch [25/100], Train Loss: 0.4339, Test Loss: 0.6519\n",
      "Epoch [50/100], Train Loss: 0.3151, Test Loss: 0.6500\n",
      "Early stopping at epoch 53\n",
      "AutoEncoder training completed.\n",
      "\n",
      "Testing configuration 16: {'hidden_dim1': 128, 'hidden_dim2': 64, 'learning_rate': 0.001, 'batch_size': 64}\n",
      "\n",
      "Training the AutoEncoder...\n",
      "Epoch [25/100], Train Loss: 0.4904, Test Loss: 0.6177\n",
      "Epoch [50/100], Train Loss: 0.3515, Test Loss: 0.6030\n",
      "Early stopping at epoch 54\n",
      "AutoEncoder training completed.\n",
      "\n",
      "Testing configuration 17: {'hidden_dim1': 128, 'hidden_dim2': 64, 'learning_rate': 0.0001, 'batch_size': 32}\n",
      "\n",
      "Training the AutoEncoder...\n",
      "Epoch [25/100], Train Loss: 0.7979, Test Loss: 0.7800\n",
      "Epoch [50/100], Train Loss: 0.6748, Test Loss: 0.7139\n",
      "Epoch [75/100], Train Loss: 0.5972, Test Loss: 0.6835\n",
      "Epoch [100/100], Train Loss: 0.5396, Test Loss: 0.6655\n",
      "AutoEncoder training completed.\n",
      "\n",
      "Testing configuration 18: {'hidden_dim1': 128, 'hidden_dim2': 64, 'learning_rate': 0.0001, 'batch_size': 64}\n",
      "\n",
      "Training the AutoEncoder...\n",
      "Epoch [25/100], Train Loss: 0.8224, Test Loss: 0.7618\n",
      "Epoch [50/100], Train Loss: 0.7468, Test Loss: 0.7141\n",
      "Epoch [75/100], Train Loss: 0.6458, Test Loss: 0.6737\n",
      "Epoch [100/100], Train Loss: 0.5959, Test Loss: 0.6476\n",
      "AutoEncoder training completed.\n",
      "[{'config': {'hidden_dim1': 256, 'hidden_dim2': 128, 'learning_rate': 0.001, 'batch_size': 64}, 'final_train_loss': 0.20002157183793876, 'final_test_loss': 0.5713936984539032, 'cosine_similarity': np.float32(0.021994466)}, {'config': {'hidden_dim1': 256, 'hidden_dim2': 64, 'learning_rate': 0.001, 'batch_size': 64}, 'final_train_loss': 0.21814510570122644, 'final_test_loss': 0.5917562395334244, 'cosine_similarity': np.float32(0.023902806)}, {'config': {'hidden_dim1': 128, 'hidden_dim2': 64, 'learning_rate': 0.001, 'batch_size': 64}, 'final_train_loss': 0.3413071105113396, 'final_test_loss': 0.6019654721021652, 'cosine_similarity': np.float32(0.021956038)}, {'config': {'hidden_dim1': 256, 'hidden_dim2': 64, 'learning_rate': 0.01, 'batch_size': 32}, 'final_train_loss': 0.8282419347763061, 'final_test_loss': 0.7984087807791573, 'cosine_similarity': np.float32(0.037835367)}, {'config': {'hidden_dim1': 256, 'hidden_dim2': 128, 'learning_rate': 0.01, 'batch_size': 32}, 'final_train_loss': 0.8649995291233062, 'final_test_loss': 0.817464462348393, 'cosine_similarity': np.float32(0.03126968)}, {'config': {'hidden_dim1': 256, 'hidden_dim2': 128, 'learning_rate': 0.01, 'batch_size': 64}, 'final_train_loss': 0.7050917125665225, 'final_test_loss': 0.6969566643238068, 'cosine_similarity': np.float32(0.029437246)}]\n"
     ]
    }
   ],
   "source": [
    "\n",
    "# Results tracker\n",
    "results = []\n",
    "\n",
    "# Hyperparameter tuning loop\n",
    "for idx, config in enumerate(hyperparameter_grid):\n",
    "    print(f\"\\nTesting configuration {idx + 1}: {config}\\n\")\n",
    "    train_dataloader, test_dataloader = dataBatching(\n",
    "        train_tensor, test_tensor, batch_size=config['batch_size']\n",
    "    )\n",
    "    autoEncoder = AutoEncoder(\n",
    "        input_dim=input_dim,\n",
    "        hidden_dim1=config['hidden_dim1'],\n",
    "        hidden_dim2=config['hidden_dim2'],\n",
    "        bottleneck_dim=bottleneck_dim\n",
    "    )\n",
    "    \n",
    "    # Train the AutoEncoder\n",
    "    train_losses, test_losses, bottleneck_outputs = autoEncoderTraining(\n",
    "        num_epochs=num_epochs,\n",
    "        patience=patience,\n",
    "        min_delta=min_delta,\n",
    "        lr=config['learning_rate'],\n",
    "        autoEncoder=autoEncoder,\n",
    "        train_dataloader=train_dataloader,\n",
    "        test_dataloader=test_dataloader\n",
    "    )\n",
    "    \n",
    "    # Evaluate bottleneck (compressed) embeddings\n",
    "    reconstructed_embeddings = autoEncoder.decoder(bottleneck_outputs).detach().numpy()\n",
    "\n",
    "    similarity = np.mean([\n",
    "        np.dot(reconstructed_embeddings[i], embedding_matrix_normalized[i]) /\n",
    "        (np.linalg.norm(reconstructed_embeddings[i]) * np.linalg.norm(embedding_matrix_normalized[i]))\n",
    "        for i in range(len(reconstructed_embeddings))\n",
    "    ])\n",
    "    \n",
    "    # Store results\n",
    "    results.append({\n",
    "        'config': config,\n",
    "        'final_train_loss': train_losses[-1],\n",
    "        'final_test_loss': test_losses[-1],\n",
    "        'cosine_similarity': similarity\n",
    "    })\n",
    "\n",
    "\n",
    "\n",
    "# Taking out the worst configurations, keeping the best 3 in terms of test loss and the best 3 in terms of cosine similarity\n",
    "\n",
    "results = sorted(results, key=lambda x: x['final_test_loss'])\n",
    "best_test_loss = results[:3]\n",
    "results = sorted(results, key=lambda x: x['cosine_similarity'], reverse=True)\n",
    "best_cosine_similarity = results[:3]\n",
    "\n",
    "best_results = best_test_loss + best_cosine_similarity\n",
    "print(best_results)"
   ]
  },
  {
   "cell_type": "markdown",
   "metadata": {},
   "source": [
    "### 3. Visualization"
   ]
  },
  {
   "cell_type": "code",
   "execution_count": 28,
   "metadata": {},
   "outputs": [
    {
     "data": {
      "image/png": "[encoded data removed]",
      "text/plain": [
       "<Figure size 1500x600 with 2 Axes>"
      ]
     },
     "metadata": {},
     "output_type": "display_data"
    },
    {
     "name": "stdout",
     "output_type": "stream",
     "text": [
      "Best configuration in terms of test loss : {'config': {'hidden_dim1': 256, 'hidden_dim2': 128, 'learning_rate': 0.001, 'batch_size': 64}, 'final_train_loss': 0.20002157183793876, 'final_test_loss': 0.5713936984539032, 'cosine_similarity': np.float32(0.021994466)}\n",
      "Best configuration in terms of cosine similarity : {'config': {'hidden_dim1': 128, 'hidden_dim2': 64, 'learning_rate': 0.001, 'batch_size': 64}, 'final_train_loss': 0.3413071105113396, 'final_test_loss': 0.6019654721021652, 'cosine_similarity': np.float32(0.021956038)}\n"
     ]
    }
   ],
   "source": [
    "# Visualization\n",
    "results = best_results\n",
    "labels = [f\"Config {i+1}\" for i in range(len(results))]\n",
    "train_losses = [res['final_train_loss'] for res in results]\n",
    "test_losses = [res['final_test_loss'] for res in results]\n",
    "similarities = [res['cosine_similarity'] for res in results]\n",
    "\n",
    "x = np.arange(len(labels))  # Label locations\n",
    "width = 0.3  # Bar width\n",
    "\n",
    "fig, ax = plt.subplots(1, 2, figsize=(15, 6), constrained_layout=True)\n",
    "\n",
    "# Bar plot for Losses\n",
    "ax[0].bar(x - width/2, train_losses, width, label='Train Loss', color='skyblue')\n",
    "ax[0].bar(x + width/2, test_losses, width, label='Test Loss', color='salmon')\n",
    "ax[0].set_title('Loss Comparison')\n",
    "ax[0].set_xlabel('Configurations')\n",
    "ax[0].set_ylabel('Loss')\n",
    "ax[0].set_xticks(x)\n",
    "ax[0].set_xticklabels(labels)\n",
    "ax[0].legend()\n",
    "\n",
    "# Bar plot for Cosine Similarity\n",
    "ax[1].bar(x, similarities, width, label='Cosine Similarity', color='limegreen')\n",
    "ax[1].set_title('Cosine Similarity Comparison')\n",
    "ax[1].set_xlabel('Configurations')\n",
    "ax[1].set_ylabel('Cosine Similarity')\n",
    "ax[1].set_xticks(x)\n",
    "ax[1].set_xticklabels(labels)\n",
    "ax[1].legend()\n",
    "\n",
    "plt.suptitle('Hyperparameter Evaluation Metrics', fontsize=16)\n",
    "plt.show()\n",
    "\n",
    "# Find the best configuration\n",
    "best_config = min(results, key=lambda x: x['final_test_loss'])\n",
    "second_best_config = min(results, key=lambda x: x['cosine_similarity'])\n",
    "print(f\"Best configuration in terms of test loss : {best_config}\")\n",
    "print(f\"Best configuration in terms of cosine similarity : {second_best_config}\")"
   ]
  },
  {
   "cell_type": "markdown",
   "metadata": {},
   "source": [
    "We observe very close cosine similarity for the two best results : ~0.020 and ~0.019 => 0.001 of difference\n",
    "We also observe very close test loss for both : ~0.567 and ~0.585 => 0.018 of difference.\n",
    "\n",
    "A factor 10 between both differences, hence we will choose the test loss as our criteria.\n",
    "\n",
    "#### Finally, the best configuration is : hidden_dim1 = 256, hidden_dim2 = 128, learning_rate = 0.001, batch_size = 64\n",
    "\n",
    "Another way to confirm that it is the best configuration, is to not define any seed for the data split and the batching, in order to leave some randomness between different trainings, and then execute the loop that comes before many times to check which configuration is consistantly in the best two. And it is indeed the 'hidden_dim1 = 256, hidden_dim2 = 128, learning_rate = 0.001, batch_size = 64' one."
   ]
  },
  {
   "cell_type": "markdown",
   "metadata": {},
   "source": [
    "## Conclusion\n",
    "\n",
    "In this notebook, we documented the steps for hyperparameter tuning of the AutoEncoder.\n",
    "\n",
    "Thanks to this, we know that the best configuration to train our AutoEncoder with is the following :\n",
    "\n",
    "### hidden_dim1 = 256, hidden_dim2 = 128, learning_rate = 0.001, batch_size = 64"
   ]
  }
 ],
 "metadata": {
  "kernelspec": {
   "display_name": "venv",
   "language": "python",
   "name": "python3"
  },
  "language_info": {
   "codemirror_mode": {
    "name": "ipython",
    "version": 3
   },
   "file_extension": ".py",
   "mimetype": "text/x-python",
   "name": "python",
   "nbconvert_exporter": "python",
   "pygments_lexer": "ipython3",
   "version": "3.12.3"
  }
 },
 "nbformat": 4,
 "nbformat_minor": 2
}
